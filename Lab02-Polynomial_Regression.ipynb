{
 "cells": [
  {
   "cell_type": "markdown",
   "id": "0811de25-9cc6-4850-8650-807bd117340c",
   "metadata": {},
   "source": [
    "# 🧪LAB: Polynomial Regression as a First Approximation to Non-Linear Problems\n",
    "\n",
    "In this lab, you will explore **Polynomial Regression** as a simple and intuitive extension of linear models that allows us to handle **non-linear** relationships between predictors and the target variable. While linear regression assumes a straight-line relationship, polynomial regression allows models to capture curves by introducing **non-linear transformations** of the original features. This a great starting point for thinking about **model complexity** and **non-linearity**, and will also be a first approximation to dealing with non-linear problems. Subsequent labs will concentrate on more advance models for this, such as **support vector machine** and **neural networks**.\n",
    "\n",
    "---\n",
    "\n",
    "**Collaboration Note**: This assignment is designed to support collaborative work. We encourage you to divide tasks among group members so that everyone can contribute meaningfully. Many components of the assignment can be approached in parallel or split logically across team members. Good coordination and thoughtful integration of your work will lead to a stronger final result.\n",
    "\n",
    "--- \n",
    "\n",
    "In total, this lab assignment will be worth **100 points**.\n",
    "\n",
    "--- \n",
    "**Submission notes**:\n",
    "\n",
    "* Write down all group members' names, or at least the group name (if you have one and you previously provided it), in the first cell of the notebook.\n",
    "\n",
    "* Verify that the notebook runs as expected and that all required outputs are included.\n"
   ]
  },
  {
   "cell_type": "code",
   "execution_count": null,
   "id": "fd33fded-a456-47db-9adb-a84a624d3d6a",
   "metadata": {},
   "outputs": [],
   "source": [
    "NAME(s) = \"\""
   ]
  },
  {
   "cell_type": "markdown",
   "id": "c10c92a3-02fa-4997-a74b-e796596e7b11",
   "metadata": {},
   "source": [
    "## 1. Work with synthetic data (35 points)"
   ]
  },
  {
   "cell_type": "markdown",
   "id": "f16706a9-b26d-4e91-abf8-0a1665b8fcdf",
   "metadata": {},
   "source": [
    "### a. Generate the data\n",
    "    \n",
    "- Create a random variable `x` with at least 100 samples drawn from a Gaussian distribution (e.g., mean = 0, standard deviation = 1).\n",
    "\n",
    "- Define a new variable `y` as a non-linear function of this `x`. You can add noise to make the task more realistic.\n",
    "\n",
    "(*Hint*: Example of a non-linear function: `y = sin(x) + 0.3 * x² + noise`)"
   ]
  },
  {
   "cell_type": "code",
   "execution_count": null,
   "id": "9e0bad69-d8ef-4c5f-88da-715761969aed",
   "metadata": {},
   "outputs": [],
   "source": [
    "# [Your code here]"
   ]
  },
  {
   "cell_type": "markdown",
   "id": "6e426fc9-08c0-41ca-a7e2-c21d21854b65",
   "metadata": {},
   "source": [
    "- Why do you think it is important to start with a synthetic dataset before using a real one? Elaborate your answer"
   ]
  },
  {
   "cell_type": "markdown",
   "id": "c6fd901e-70ea-426d-9b16-e007a6d4ee6a",
   "metadata": {},
   "source": [
    "YOUR TEXT HERE"
   ]
  },
  {
   "cell_type": "markdown",
   "id": "7192a613-daa6-43cb-b4bf-575dbd2083fb",
   "metadata": {},
   "source": [
    "### b. Fit and Visualize Polynomial Regression\n",
    "\n",
    "- First, fit a linear regression model using `LinearRegression` from `sklearn.linear_model`.  \n",
    "  Plot your predictions over the scatterplot of your original `x` and `y` data.\n",
    "\n",
    "- Then, apply a polynomial transformation to `x` using `PolynomialFeatures` from `sklearn.preprocessing`.  \n",
    "  Try increasing the **degree** (e.g., 2, 3, 5, 7) and for each case:\n",
    "  - Fit a new model on the transformed features. \n",
    "  - Plot the predictions on top of the data.\n",
    "  - Evaluate the model using metrics like MSE, MAE, and R².\n",
    "\n",
    "**Important**: You should make use of pipelines to combine preprocessing and modeling steps cleanly."
   ]
  },
  {
   "cell_type": "code",
   "execution_count": null,
   "id": "48dbd32f-b322-47a8-b5fa-63f048e35aff",
   "metadata": {},
   "outputs": [],
   "source": [
    "# [Your code here]"
   ]
  },
  {
   "cell_type": "markdown",
   "id": "9f4139a6-bdc6-4146-827d-364f3a0499d1",
   "metadata": {},
   "source": [
    "- **Reflection**: What do you observe about model fit and complexity? Please, elaborate."
   ]
  },
  {
   "cell_type": "markdown",
   "id": "9dd7d44f-2d06-4aec-ae93-8ac07c2459a4",
   "metadata": {},
   "source": [
    "YOUR TEXT HERE"
   ]
  },
  {
   "cell_type": "markdown",
   "id": "dae03313-32b0-4be2-810e-c4b82075b4a4",
   "metadata": {},
   "source": [
    "## 2. Application to Real Data\n",
    "\n",
    "Now, you will apply polynomial regression to a real-world dataset that relates the **compressive strength of high-performance concrete** to various input features such as **cement**, **water**, and **aggregate content**. This dataset originates from a study exploring predictive modeling of concrete strength using neural networks. You instead will start wit hpolynomial regression, a simple approach but that will let you investigate how well it can capture the potentially non-linear relationship between input features and compressive strength.\n",
    "\n",
    "You can find the dataset here: https://github.com/UVADS/DS-4021/blob/388a5fd8aad496172aafc694163c799b0bd6f5dd/datasets/Concrete_Data.xls, in addition to its metadata: https://github.com/UVADS/DS-4021/blob/388a5fd8aad496172aafc694163c799b0bd6f5dd/datasets/Concrete_Readme.txt.\n",
    "\n",
    "Reference:\n",
    "\n",
    "- I-Cheng Yeh, *Modeling of strength of high performance concrete using artificial neural networks*, Cement and Concrete Research, Vol. 28, No. 12, pp. 1797–1808 (1998)."
   ]
  },
  {
   "cell_type": "markdown",
   "id": "17ec9bc3-1dce-465d-805b-be72667463c6",
   "metadata": {},
   "source": [
    "### a. Load the data and create a training and test set. The test set should contain at least 20% of the observations."
   ]
  },
  {
   "cell_type": "code",
   "execution_count": null,
   "id": "d1562c3b-576c-45ed-bcb0-f147d3864309",
   "metadata": {},
   "outputs": [],
   "source": [
    "# [Your code here]"
   ]
  },
  {
   "cell_type": "markdown",
   "id": "ce09742b-a038-4724-9bf2-13f0d943eab9",
   "metadata": {},
   "source": [
    "### b. For each input variable in the dataset, create a **scatterplot** against the outcome variable (`Compressive_Strength`)."
   ]
  },
  {
   "cell_type": "code",
   "execution_count": null,
   "id": "66f205fe-7762-4252-93c0-d5a24e3be8c2",
   "metadata": {},
   "outputs": [],
   "source": [
    "# [Your code here]"
   ]
  },
  {
   "cell_type": "markdown",
   "id": "62832378-a1c4-410d-9010-e3c0f117093a",
   "metadata": {},
   "source": [
    "### c. Reflect: Do any variables appear to have a non-linear relationship with the output?  Why might this suggest the need for polynomial regression? Please elaborate on your answers."
   ]
  },
  {
   "cell_type": "markdown",
   "id": "84ae26ac-bc4f-43f0-8330-581dacc6f0b6",
   "metadata": {},
   "source": [
    "YOUR TEXT HERE"
   ]
  },
  {
   "cell_type": "markdown",
   "id": "d3717e1f-027b-4290-8d67-064e2ccb9da1",
   "metadata": {},
   "source": [
    "### d. You have probably become convinced that modeling non-linear relationships is necessary in this dataset.  To do this, you’ll be using `PolynomialFeatures` to expand the input features.\n",
    "\n",
    "But before moving on to modelling, you will first inspect how the number of features grows as you increase the degree of the expansion.\n",
    "\n",
    "- Apply `PolynomialFeatures` to your input variables using degrees 1 through 5.\n",
    "- For each degree, print the number of resulting features.\n"
   ]
  },
  {
   "cell_type": "code",
   "execution_count": null,
   "id": "6ab38ca7-79d6-45b3-85a0-551e8185790c",
   "metadata": {},
   "outputs": [],
   "source": [
    "# [Your code here]"
   ]
  },
  {
   "cell_type": "markdown",
   "id": "7ba9186b-1131-43be-9b70-32f213f33145",
   "metadata": {},
   "source": [
    "### e. Discuss with your group and reflect:\n",
    "    \n",
    "- How does the number of features grow with increasing degree?\n",
    "- What implications might this have for model training and interpretability?\n",
    "\n",
    "Please elaborate on your answers."
   ]
  },
  {
   "cell_type": "markdown",
   "id": "8ea46fb3-1149-4ab2-83c7-2b6905175fc9",
   "metadata": {},
   "source": [
    "YOUR TEXT HERE"
   ]
  },
  {
   "cell_type": "code",
   "execution_count": null,
   "id": "ac67047e-4693-49d0-b25a-cc81837d9f69",
   "metadata": {},
   "outputs": [],
   "source": [
    "# [Your code here]"
   ]
  },
  {
   "cell_type": "markdown",
   "id": "198a4db1-1dde-42f1-b2d1-18b8eca2354f",
   "metadata": {},
   "source": [
    "### f. You will fit a LASSO regression model on the expanded features. But before jumping into the implementation, discuss and reflect on the following with your group:\n",
    "\n",
    "- Why are we using LASSO instead of plain linear regression?\n",
    "- What are the benefits of regularization in this context?\n",
    "- What preprocessing steps are necessary for LASSO to work properly (e.g., scaling)?\n",
    "\n",
    "Please elaborate on your answers."
   ]
  },
  {
   "cell_type": "markdown",
   "id": "638e6f8a-0c1d-4a38-b3af-cdb9b55f288f",
   "metadata": {},
   "source": [
    "YOUR TEXT HERE"
   ]
  },
  {
   "cell_type": "markdown",
   "id": "cc757990-1920-44fa-b793-0c9895ae23c0",
   "metadata": {},
   "source": [
    "### g. Now, implement both steps together. That is:\n",
    "\n",
    "- Apply `PolynomialFeatures` to expand the input features.\n",
    "- Fit a **Lasso regression model** using two different combinations of:\n",
    "  - Polynomial `degree`\n",
    "  - LASSO `alpha` value\n",
    "\n",
    "Evaluate and compare the models using metrics such as **MSE**, **MAE**, or **R²** on a validation set. \n",
    "\n",
    "Again, you should make use of pipelines for this."
   ]
  },
  {
   "cell_type": "code",
   "execution_count": null,
   "id": "e32b9b85-3ab6-474b-9f5f-55cf00a47e8e",
   "metadata": {},
   "outputs": [],
   "source": [
    "# [Your code here]"
   ]
  },
  {
   "cell_type": "markdown",
   "id": "77745635-265f-474e-9a36-6683c8c4fddc",
   "metadata": {},
   "source": [
    "### h. Discuss and reflect with your group:\n",
    "- How should we go about finding the best combination of degree and alpha?\n",
    "- What methods could we use to explore this space systematically?\n",
    "- Is there a data-driven approach for this?\n",
    "\n",
    "Please elaborate on your answers"
   ]
  },
  {
   "cell_type": "markdown",
   "id": "c352de64-5b12-4eb9-8937-4ec5c65a7d12",
   "metadata": {},
   "source": [
    "YOUR TEXT HERE"
   ]
  },
  {
   "cell_type": "markdown",
   "id": "cca6ddc4-82b6-4dae-8c61-d426272b7c37",
   "metadata": {},
   "source": [
    "### i. Now, expand your model evaluation to include 5 polynomial degrees (1 through 5) and 10 different alpha values for Lasso, spaced logarithmically (e.g., using `np.logspace`)\n",
    "\n",
    "Now, do the following:\n",
    "\n",
    "- For each combination of degree and alpha, compute the cross-validated error (e.g., MSE).\n",
    "- Store the results and generate a plot that summarizes model performance."
   ]
  },
  {
   "cell_type": "code",
   "execution_count": null,
   "id": "ee3e3d5b-e6d6-478b-9db0-8ba401598975",
   "metadata": {},
   "outputs": [],
   "source": [
    "# [Your code here]"
   ]
  },
  {
   "cell_type": "markdown",
   "id": "5c6319ee-f9b3-4bff-b926-aee9e8464627",
   "metadata": {},
   "source": [
    "### j. Discuss and reflect with your group:\n",
    "\n",
    "- Why did you choose this type of plot to summarize results?\n",
    "- Can you think of a better or more informative visualization?\n",
    "\n",
    "Please elaborate on your answers"
   ]
  },
  {
   "cell_type": "markdown",
   "id": "23697330-5bb2-4484-b6ad-a3ff17d05e83",
   "metadata": {},
   "source": [
    "### k. Using the most optimal model (based on your previous cross-validation results), generate predictions on the test set. In addition, create a plot comparing the predicted values against the observed values."
   ]
  },
  {
   "cell_type": "code",
   "execution_count": null,
   "id": "67eed313-1c07-4204-bf1a-fb8d62a9fecc",
   "metadata": {},
   "outputs": [],
   "source": [
    "# [Your code here]"
   ]
  },
  {
   "cell_type": "markdown",
   "id": "1c378be2-286a-4d13-97e4-dcd4b10a4325",
   "metadata": {},
   "source": [
    "### h. Identify the most important features from the LASSO model."
   ]
  },
  {
   "cell_type": "code",
   "execution_count": null,
   "id": "27da0e06-94c2-4ec7-8756-e8e3042c3bc2",
   "metadata": {},
   "outputs": [],
   "source": [
    "# [Your code here]"
   ]
  },
  {
   "cell_type": "markdown",
   "id": "7c7046b2-87b7-4fb1-b6ab-f8c802594551",
   "metadata": {},
   "source": [
    "Reflect:\n",
    "- Do the important features make intuitive sense?\n",
    "- Are any of them polynomial interaction terms? What might that tell you?\n",
    "\n",
    "Please, elaborate on your answers."
   ]
  },
  {
   "cell_type": "markdown",
   "id": "361e50c7-5ce3-497c-b158-e49aaaf1dac6",
   "metadata": {},
   "source": [
    "YOUR TEXT HERE"
   ]
  },
  {
   "cell_type": "markdown",
   "id": "737c6ffa-1c54-49bd-81d1-51bc678997ef",
   "metadata": {},
   "source": [
    "## 3. Collaboration Reflection (5 points)\n",
    "\n",
    "As a group, briefly reflect on the following (max 1–2 short paragraphs):\n",
    "\n",
    "- How did the group dynamics work throughout the assignment?\n",
    "- Were there any major disagreements or diverging approaches?\n",
    "- How did you resolve conflicts or make final modeling decisions?\n",
    "- What did you learn from each other during this project?"
   ]
  },
  {
   "cell_type": "markdown",
   "id": "31c135e6-c595-4f3b-a461-17580a4c3a4d",
   "metadata": {},
   "source": [
    "YOUR TEXT HERE"
   ]
  }
 ],
 "metadata": {
  "kernelspec": {
   "display_name": "Python 3 (ipykernel)",
   "language": "python",
   "name": "python3"
  },
  "language_info": {
   "codemirror_mode": {
    "name": "ipython",
    "version": 3
   },
   "file_extension": ".py",
   "mimetype": "text/x-python",
   "name": "python",
   "nbconvert_exporter": "python",
   "pygments_lexer": "ipython3",
   "version": "3.11.9"
  }
 },
 "nbformat": 4,
 "nbformat_minor": 5
}
